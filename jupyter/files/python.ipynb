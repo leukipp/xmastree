{
  "cells": [
    {
      "cell_type": "markdown",
      "metadata": {},
      "source": [
        "# Python\n",
        "\n",
        "![](https://leukipp.github.io/xmastree/kernelspecs/python.png)"
      ]
    },
    {
      "cell_type": "code",
      "execution_count": null,
      "metadata": {
        "trusted": true
      },
      "outputs": [],
      "source": [
        "import os\n",
        "import js\n",
        "import urllib\n",
        "\n",
        "import numpy as np\n",
        "import scipy as sp\n",
        "import matplotlib.pyplot as plt\n",
        "\n",
        "from pyodide_js import FS\n",
        "from IPython.display import HTML, Javascript\n"
      ]
    },
    {
      "cell_type": "markdown",
      "metadata": {},
      "source": [
        "## Utils"
      ]
    },
    {
      "cell_type": "code",
      "execution_count": null,
      "metadata": {
        "trusted": true
      },
      "outputs": [],
      "source": [
        "class FileSystemUtils(object):\n",
        "    def __init__(self, fs, path):\n",
        "        \"\"\" indexedDB filesystem storage \"\"\"\n",
        "        self.fs = fs\n",
        "        self.path = path\n",
        "        self.type = self.fs.filesystems.IDBFS\n",
        "\n",
        "        self.mount()\n",
        "        self.upsync()\n",
        "\n",
        "    def mount(self):\n",
        "        \"\"\" mount kernel filesystem \"\"\"\n",
        "        if not os.path.exists(self.path):\n",
        "            self.fs.mkdir(self.path)\n",
        "            self.fs.mount(self.type, {}, self.path)\n",
        "\n",
        "    def upsync(self):\n",
        "        \"\"\" sync from browser to kernel filesystem \"\"\"\n",
        "        self.fs.syncfs(True, lambda x: print(x) if x else None)\n",
        "\n",
        "    def downsync(self):\n",
        "        \"\"\" sync from kernel to browser filesystem \"\"\"\n",
        "        self.fs.syncfs(False, lambda x: print(x) if x else None)\n"
      ]
    },
    {
      "cell_type": "code",
      "execution_count": null,
      "metadata": {
        "trusted": true
      },
      "outputs": [],
      "source": [
        "class Simulator(object):\n",
        "    def __init__(self, width='100%', height='600px'):\n",
        "        \"\"\" three js simulator \"\"\"\n",
        "        self.width = width\n",
        "        self.height = height\n",
        "\n",
        "        self.id = 'simulator'\n",
        "        self.root = '/xmastree/files/simulator/index.html'\n",
        "        self.settings = {'material.background': '0x2f2a46'}\n",
        "\n",
        "    def src(self):\n",
        "        return f'{self.root}#{urllib.parse.urlencode(self.settings)}'\n",
        "\n",
        "    def render(self):\n",
        "        \"\"\" render simulator html \"\"\"\n",
        "        layout = {\n",
        "            'id': self.id,\n",
        "            'frameborder': '0',\n",
        "            'width': self.width,\n",
        "            'height': self.height,\n",
        "            'src': self.src()\n",
        "        }\n",
        "        attributes = ' '.join([f'{k}=\"{v}\"' for k, v in layout.items()])\n",
        "        return HTML(f'<iframe allowfullscreen {attributes} />')\n",
        "\n",
        "    def update(self, **kwargs):\n",
        "        \"\"\" update simulator settings \"\"\"\n",
        "        for k, v in kwargs.items():\n",
        "            self.settings[k] = str(v)\n",
        "        return Javascript(f'document.getElementById(\"{self.id}\").src=\"{self.src()}\"')\n"
      ]
    },
    {
      "cell_type": "markdown",
      "metadata": {},
      "source": [
        "### Tests"
      ]
    },
    {
      "cell_type": "code",
      "execution_count": null,
      "metadata": {
        "trusted": true
      },
      "outputs": [],
      "source": [
        "home = os.path.expanduser('~')\n",
        "data = os.path.join(home, 'data')\n",
        "\n",
        "# init filesystem\n",
        "fs = FileSystemUtils(FS, data)\n"
      ]
    },
    {
      "cell_type": "code",
      "execution_count": null,
      "metadata": {
        "trusted": true
      },
      "outputs": [],
      "source": [
        "# create some file\n",
        "f = open(os.path.join(data, 'test3.csv'), 'w')\n",
        "f.write('3,123,äbc')\n",
        "f.close()\n"
      ]
    },
    {
      "cell_type": "code",
      "execution_count": null,
      "metadata": {
        "trusted": true
      },
      "outputs": [],
      "source": [
        "# read some file\n",
        "f = open(os.path.join(data, 'test3.csv'), 'r')\n",
        "f.read()\n"
      ]
    },
    {
      "cell_type": "code",
      "execution_count": null,
      "metadata": {
        "trusted": true
      },
      "outputs": [],
      "source": [
        "# sync from kernel to browser filesystem\n",
        "fs.downsync()\n"
      ]
    },
    {
      "cell_type": "code",
      "execution_count": null,
      "metadata": {
        "trusted": true
      },
      "outputs": [],
      "source": [
        "# init simulator\n",
        "sim = Simulator()\n"
      ]
    },
    {
      "cell_type": "code",
      "execution_count": null,
      "metadata": {
        "trusted": true
      },
      "outputs": [],
      "source": [
        "# render simulator\n",
        "sim.render()\n"
      ]
    },
    {
      "cell_type": "code",
      "execution_count": null,
      "metadata": {
        "trusted": true
      },
      "outputs": [],
      "source": [
        "# update simulator settings\n",
        "sim.update(fps=30, loop='true')\n"
      ]
    },
    {
      "cell_type": "code",
      "execution_count": null,
      "metadata": {},
      "outputs": [],
      "source": [
        "# fetch csv\n",
        "result = await js.fetch('https://raw.githubusercontent.com/standupmaths/xmastree2021/main/examples/bouncy-ball.csv')\n",
        "csv = await result.text()\n",
        "\n",
        "# save csv\n",
        "path = os.path.join(data, 'bouncy-ball.csv')\n",
        "with open(path, 'w') as file:\n",
        "    file.write(csv)\n",
        "fs.downsync()\n"
      ]
    },
    {
      "cell_type": "markdown",
      "metadata": {},
      "source": [
        "## Matplotlib"
      ]
    },
    {
      "cell_type": "code",
      "execution_count": null,
      "metadata": {
        "trusted": true
      },
      "outputs": [],
      "source": [
        "x = np.linspace(0, 10, 1000)\n",
        "\n",
        "plt.plot(x, np.sin(x))\n",
        "plt.show()\n"
      ]
    },
    {
      "cell_type": "markdown",
      "metadata": {},
      "source": [
        "## Widgets"
      ]
    },
    {
      "cell_type": "code",
      "execution_count": null,
      "metadata": {
        "trusted": true
      },
      "outputs": [],
      "source": [
        "import micropip\n",
        "\n",
        "await micropip.install('ipympl')\n",
        "await micropip.install('ipywidgets')\n"
      ]
    },
    {
      "cell_type": "code",
      "execution_count": null,
      "metadata": {},
      "outputs": [],
      "source": [
        "from ipywidgets import IntSlider, IntText, link\n"
      ]
    },
    {
      "cell_type": "code",
      "execution_count": null,
      "metadata": {
        "trusted": true
      },
      "outputs": [],
      "source": [
        "%matplotlib widget\n"
      ]
    },
    {
      "cell_type": "code",
      "execution_count": null,
      "metadata": {
        "trusted": true
      },
      "outputs": [],
      "source": [
        "x = np.linspace(0, 10, 1000)\n",
        "plt.plot(x, np.sin(x))\n"
      ]
    },
    {
      "cell_type": "code",
      "execution_count": null,
      "metadata": {
        "trusted": true
      },
      "outputs": [],
      "source": [
        "slider = IntSlider()\n",
        "slider\n"
      ]
    },
    {
      "cell_type": "code",
      "execution_count": null,
      "metadata": {
        "trusted": true
      },
      "outputs": [],
      "source": [
        "text = IntText()\n",
        "text\n"
      ]
    },
    {
      "cell_type": "code",
      "execution_count": null,
      "metadata": {
        "trusted": true
      },
      "outputs": [],
      "source": [
        "link((slider, 'value'), (text, 'value'))\n"
      ]
    }
  ],
  "metadata": {
    "interpreter": {
      "hash": "e234d837eebba94c7397b4e38c0b82bd3e4741cb2c390182a3fb441eaf8f3cd5"
    },
    "kernelspec": {
      "display_name": "Pyolite",
      "language": "python",
      "name": "python3"
    },
    "language_info": {
      "codemirror_mode": {
        "name": "ipython",
        "version": 3
      },
      "file_extension": ".py",
      "mimetype": "text/x-python",
      "name": "python",
      "nbconvert_exporter": "python",
      "pygments_lexer": "ipython3",
      "version": "3.9.9"
    },
    "orig_nbformat": 4
  },
  "nbformat": 4,
  "nbformat_minor": 4
}
