{
 "cells": [
  {
   "cell_type": "markdown",
   "metadata": {},
   "source": [
    "# Python\n",
    "\n",
    "![](https://leukipp.github.io/xmastree/kernelspecs/python.png)"
   ]
  },
  {
   "cell_type": "code",
   "execution_count": null,
   "metadata": {},
   "outputs": [],
   "source": [
    "import os\n",
    "import js\n",
    "import csv\n",
    "import urllib\n",
    "import numpy as np\n"
   ]
  },
  {
   "cell_type": "code",
   "execution_count": null,
   "metadata": {},
   "outputs": [],
   "source": [
    "from pyodide_js import FS\n",
    "from IPython.display import HTML, Javascript\n"
   ]
  },
  {
   "cell_type": "markdown",
   "metadata": {
    "jp-MarkdownHeadingCollapsed": true,
    "tags": []
   },
   "source": [
    "## Utils"
   ]
  },
  {
   "cell_type": "code",
   "execution_count": null,
   "metadata": {},
   "outputs": [],
   "source": [
    "class FileSystemUtils(object):\n",
    "    def __init__(self, fs, path):\n",
    "        \"\"\" indexedDB filesystem storage \"\"\"\n",
    "        self.fs = fs\n",
    "        self.path = path\n",
    "        self.type = self.fs.filesystems.IDBFS\n",
    "\n",
    "        self.mount()\n",
    "        self.upsync()\n",
    "\n",
    "    def mount(self):\n",
    "        \"\"\" mount kernel filesystem \"\"\"\n",
    "        if not os.path.exists(self.path):\n",
    "            self.fs.mkdir(self.path)\n",
    "            self.fs.mount(self.type, {}, self.path)\n",
    "\n",
    "    def upsync(self):\n",
    "        \"\"\" sync from browser to kernel filesystem \"\"\"\n",
    "        self.fs.syncfs(True, lambda x: print(x) if x else None)\n",
    "\n",
    "    def downsync(self):\n",
    "        \"\"\" sync from kernel to browser filesystem \"\"\"\n",
    "        self.fs.syncfs(False, lambda x: print(x) if x else None)\n"
   ]
  },
  {
   "cell_type": "code",
   "execution_count": 1,
   "metadata": {},
   "outputs": [],
   "source": [
    "class Simulator(object):\n",
    "    def __init__(self, width='100%', height='600px'):\n",
    "        \"\"\" three js simulator \"\"\"\n",
    "        self.width = width\n",
    "        self.height = height\n",
    "        self.settings = {}\n",
    "\n",
    "        self.id = 'simulator'\n",
    "        self.root = '' if '127.0.0.1' in str(js.location) else '/xmastree'\n",
    "        self.url = f'{self.root}/files/simulator/index.html'\n",
    "\n",
    "    def src(self):\n",
    "        \"\"\" source url for iframe \"\"\"\n",
    "        return f'{self.url}#{urllib.parse.urlencode(self.settings)}'\n",
    "\n",
    "    def render(self, **kwargs):\n",
    "        \"\"\" render simulator html \"\"\"\n",
    "        self.update(**kwargs)\n",
    "        layout = {\n",
    "            'id': self.id,\n",
    "            'frameborder': '0',\n",
    "            'width': self.width,\n",
    "            'height': self.height,\n",
    "            'src': self.src()\n",
    "        }\n",
    "        attributes = ' '.join([f'{k}=\"{v}\"' for k, v in layout.items()])\n",
    "        return HTML(f'<iframe allowfullscreen {attributes} />')\n",
    "\n",
    "    def update(self, **kwargs):\n",
    "        \"\"\" update simulator settings \"\"\"\n",
    "        for k, v in kwargs.items():\n",
    "            self.settings[k] = str(v)\n",
    "        return Javascript(f'document.getElementById(\"{self.id}\").src=\"{self.src()}\"')\n"
   ]
  },
  {
   "cell_type": "code",
   "execution_count": 2,
   "metadata": {},
   "outputs": [],
   "source": [
    "class Frames(list):\n",
    "    def __init__(self, coords_csv, fps=30):\n",
    "        \"\"\" animation frames helper \"\"\"\n",
    "        coords = list(csv.reader(coords_csv.split('\\n')))\n",
    "        self.coords = np.array([[float(col) for col in row] for row in coords])\n",
    "        self.size = self.coords.shape[0]\n",
    "        self.fps = fps\n",
    "\n",
    "    def export(self, path, fs):\n",
    "        \"\"\" export frames as csv \"\"\"\n",
    "        head = ['FRAME_ID'] + np.hstack([[f'R_{i}', f'G_{i}', f'B_{i}'] for i in range(self.size)]).tolist()\n",
    "        rows = np.array(self, dtype=int)\n",
    "\n",
    "        ids = np.arange(rows.shape[0]).reshape(-1, 1)\n",
    "        frames = np.reshape(rows, (*rows.shape[:1], -1))\n",
    "        data = np.hstack([ids, frames])\n",
    "\n",
    "        np.savetxt(path, data, header=','.join(head), fmt='%i', delimiter=',', comments='')\n",
    "        fs.downsync()\n",
    "\n",
    "        return data\n"
   ]
  },
  {
   "cell_type": "markdown",
   "metadata": {
    "tags": []
   },
   "source": [
    "## Setup"
   ]
  },
  {
   "cell_type": "code",
   "execution_count": null,
   "metadata": {},
   "outputs": [],
   "source": [
    "# init filesystem\n",
    "home_path = os.path.expanduser('~')\n",
    "data_path = os.path.join(home_path, 'data')\n",
    "\n",
    "fs = FileSystemUtils(FS, data_path)\n"
   ]
  },
  {
   "cell_type": "code",
   "execution_count": null,
   "metadata": {},
   "outputs": [],
   "source": [
    "# init frames\n",
    "response = await js.fetch('https://raw.githubusercontent.com/standupmaths/xmastree2021/main/coords_2021.csv')\n",
    "coords = await response.text()\n",
    "\n",
    "frames = Frames(coords, fps=30)\n"
   ]
  },
  {
   "cell_type": "code",
   "execution_count": null,
   "metadata": {},
   "outputs": [],
   "source": [
    "# init simulator\n",
    "simu = Simulator()\n",
    "\n",
    "simu.render(loop='true', rotation=0)\n"
   ]
  },
  {
   "cell_type": "markdown",
   "metadata": {},
   "source": [
    "## Code"
   ]
  },
  {
   "cell_type": "code",
   "execution_count": null,
   "metadata": {},
   "outputs": [],
   "source": [
    "# clear frames\n",
    "frames.clear()\n",
    "\n",
    "# ------------------------------------------ START CODING ------------------------------------------\n",
    "\n",
    "# write frames\n",
    "for frame_id in range(90):\n",
    "    frame = np.zeros(shape=(frames.size, 3))\n",
    "\n",
    "    # assign random colors\n",
    "    for led_id in range(frames.size):\n",
    "        rgb = np.random.randint(0, 256, size=(1, 3))\n",
    "        frame[led_id] = rgb\n",
    "\n",
    "    frames.append(frame)\n",
    "\n",
    "# ------------------------------------------- END CODING -------------------------------------------\n",
    "\n",
    "# export frames\n",
    "path = os.path.join(data_path, 'animation.csv')\n",
    "frames.export(path, fs)\n",
    "\n",
    "# update simulator\n",
    "simu.update(fps=frames.fps, animations=f'fs:/{path}')\n"
   ]
  }
 ],
 "metadata": {
  "interpreter": {
   "hash": "e234d837eebba94c7397b4e38c0b82bd3e4741cb2c390182a3fb441eaf8f3cd5"
  },
  "kernelspec": {
   "display_name": "Python 3 (ipykernel)",
   "language": "python",
   "name": "python3"
  },
  "language_info": {
   "codemirror_mode": {
    "name": "ipython",
    "version": 3
   },
   "file_extension": ".py",
   "mimetype": "text/x-python",
   "name": "python",
   "nbconvert_exporter": "python",
   "pygments_lexer": "ipython3",
   "version": "3.9.9"
  }
 },
 "nbformat": 4,
 "nbformat_minor": 4
}
