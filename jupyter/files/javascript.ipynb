{
  "cells": [
    {
      "cell_type": "markdown",
      "metadata": {},
      "source": [
        "# JavaScript\n",
        "\n",
        "![](https://leukipp.github.io/xmastree/kernelspecs/javascript.svg)"
      ]
    },
    {
      "cell_type": "markdown",
      "metadata": {},
      "source": [
        "## Utils"
      ]
    },
    {
      "cell_type": "code",
      "execution_count": null,
      "metadata": {
        "trusted": true
      },
      "outputs": [],
      "source": [
        "class FileSystemUtils {\n",
        "    constructor(db) {\n",
        "        this.db = db;\n",
        "        this.version = 21;\n",
        "        this.store = 'FILE_DATA';\n",
        "    }\n",
        "\n",
        "    async write(filePath, fileContent) {\n",
        "        return this.connect(filePath, fileContent);\n",
        "    }\n",
        "\n",
        "    async read(filePath) {\n",
        "        return this.connect(filePath);\n",
        "    }\n",
        "\n",
        "    async list() {\n",
        "        return this.connect();\n",
        "    }\n",
        "\n",
        "    async connect(filePath, fileContent) {\n",
        "        const file = {\n",
        "            path: filePath,\n",
        "            timestamp: (new Date()).toISOString(),\n",
        "            mode: 33206,\n",
        "            contents: fileContent ? Object.assign({}, ...[...fileContent].map((c, i) => ({ [i]: c.charCodeAt(0) }))) : null\n",
        "        };\n",
        "\n",
        "        // init object store\n",
        "        const con = indexedDB.open(this.db, this.version);\n",
        "        con.onupgradeneeded = () => { con.result.createObjectStore(this.store); };\n",
        "\n",
        "        return new Promise(function (resolve) {\n",
        "            con.onsuccess = () => {\n",
        "                const db = con.result;\n",
        "                const tx = db.transaction(this.store, 'readwrite');\n",
        "                const store = tx.objectStore(this.store);\n",
        "\n",
        "                if (file.contents) {\n",
        "                    // write operation\n",
        "                    const { path, ...contents } = file;\n",
        "                    store.put(contents, path);\n",
        "                    resolve(true);\n",
        "                }\n",
        "                else if (file.path) {\n",
        "                    // read operation\n",
        "                    const read = store.get(file.path);\n",
        "                    read.onsuccess = () => {\n",
        "                        const result = read.result ? read.result.contents : {};\n",
        "                        resolve(Object.values(result).map((c) => String.fromCharCode(c)).join(''));\n",
        "                    };\n",
        "                }\n",
        "                else {\n",
        "                    // list operation\n",
        "                    const keys = store.getAllKeys();\n",
        "                    keys.onsuccess = () => {\n",
        "                        resolve(keys.result);\n",
        "                    };\n",
        "                }\n",
        "\n",
        "                // close connection\n",
        "                tx.oncomplete = () => { db.close(); };\n",
        "            }\n",
        "        }.bind(this));\n",
        "    }\n",
        "}\n",
        "\n",
        "const fs = new FileSystemUtils('/home/web_user/data');\n",
        "\n",
        "const fileName = 'test1.csv';\n",
        "const filePath = `${fs.db}/${fileName}`;\n",
        "const fileContent = '1,123,äbc';\n",
        "\n",
        "fs.write(filePath, fileContent).then((result) => {\n",
        "    console.log(JSON.stringify(result));\n",
        "});\n",
        "\n",
        "fs.read(filePath).then((result) => {\n",
        "    console.log(JSON.stringify(result));\n",
        "});\n",
        "\n",
        "fs.list().then((result) => {\n",
        "    console.log(JSON.stringify(result));\n",
        "});"
      ]
    },
    {
      "cell_type": "code",
      "execution_count": null,
      "metadata": {},
      "outputs": [],
      "source": [
        "// TODO"
      ]
    }
  ],
  "metadata": {
    "interpreter": {
      "hash": "e234d837eebba94c7397b4e38c0b82bd3e4741cb2c390182a3fb441eaf8f3cd5"
    },
    "kernelspec": {
      "display_name": "JavaScript",
      "language": "javascript",
      "name": "javascript"
    },
    "language_info": {
      "codemirror_mode": {
        "name": "javascript"
      },
      "file_extension": ".js",
      "mimetype": "text/javascript",
      "name": "javascript",
      "nbconvert_exporter": "javascript",
      "pygments_lexer": "javascript",
      "version": "es2017"
    },
    "orig_nbformat": 4,
    "toc-showcode": true
  },
  "nbformat": 4,
  "nbformat_minor": 4
}
