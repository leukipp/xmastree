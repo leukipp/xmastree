{
  "cells": [
    {
      "cell_type": "markdown",
      "metadata": {},
      "source": [
        "# Python\n",
        "\n",
        "![](https://leukipp.github.io/xmastree/kernelspecs/python.png)"
      ]
    },
    {
      "cell_type": "code",
      "execution_count": null,
      "metadata": {
        "trusted": true
      },
      "outputs": [],
      "source": [
        "import os\n",
        "import js\n",
        "import csv\n",
        "import urllib\n",
        "import numpy as np\n",
        "\n",
        "from pyodide_js import FS\n",
        "from IPython.display import HTML, Javascript, display\n"
      ]
    },
    {
      "cell_type": "markdown",
      "metadata": {
        "jp-MarkdownHeadingCollapsed": true,
        "tags": []
      },
      "source": [
        "## Utils"
      ]
    },
    {
      "cell_type": "code",
      "execution_count": null,
      "metadata": {
        "trusted": true
      },
      "outputs": [],
      "source": [
        "class FileSystemUtils(object):\n",
        "    def __init__(self, fs, path):\n",
        "        \"\"\" indexedDB filesystem storage \"\"\"\n",
        "        self.fs = fs\n",
        "        self.path = path\n",
        "        self.type = self.fs.filesystems.IDBFS\n",
        "\n",
        "        self.mount()\n",
        "        self.upsync()\n",
        "\n",
        "    def mount(self):\n",
        "        \"\"\" mount kernel filesystem \"\"\"\n",
        "        if not os.path.exists(self.path):\n",
        "            self.fs.mkdir(self.path)\n",
        "            self.fs.mount(self.type, {}, self.path)\n",
        "\n",
        "    def upsync(self):\n",
        "        \"\"\" sync from browser to kernel filesystem \"\"\"\n",
        "        self.fs.syncfs(True, lambda x: print(x) if x else None)\n",
        "\n",
        "    def downsync(self):\n",
        "        \"\"\" sync from kernel to browser filesystem \"\"\"\n",
        "        self.fs.syncfs(False, lambda x: print(x) if x else None)\n",
        "\n",
        "\n",
        "class Simulator(object):\n",
        "    def __init__(self, width='100%', height='600px'):\n",
        "        \"\"\" three js simulator \"\"\"\n",
        "        self.width = width\n",
        "        self.height = height\n",
        "        self.settings = dict()\n",
        "        self.rendered = False\n",
        "\n",
        "        self.id = 'simulator'\n",
        "        self.root = '' if '127.0.0.1' in str(js.location) else '/xmastree'\n",
        "        self.url = f'{self.root}/files/simulator/index.html'\n",
        "\n",
        "    def src(self):\n",
        "        \"\"\" source url for iframe \"\"\"\n",
        "        return f'{self.url}#{urllib.parse.urlencode(self.settings)}'\n",
        "\n",
        "    def render(self, **kwargs):\n",
        "        \"\"\" render simulator html \"\"\"\n",
        "        self.rendered = False\n",
        "        self.update(**kwargs)\n",
        "        self.rendered = True\n",
        "        layout = {\n",
        "            'id': self.id,\n",
        "            'frameborder': '0',\n",
        "            'width': self.width,\n",
        "            'height': self.height,\n",
        "            'src': self.src()\n",
        "        }\n",
        "        attributes = ' '.join([f'{k}=\"{v}\"' for k, v in layout.items()])\n",
        "        display(HTML(f'<iframe allowfullscreen {attributes} />'))\n",
        "\n",
        "    def update(self, **kwargs):\n",
        "        \"\"\" update simulator settings \"\"\"\n",
        "        for k, v in kwargs.items():\n",
        "            self.settings[k] = str(v)\n",
        "        self.settings['seed'] = int(np.random.rand() * 1e6)\n",
        "        if self.rendered:\n",
        "            display(Javascript(f'document.getElementById(\"{self.id}\").src=\"{self.src()}\"'))\n",
        "\n",
        "\n",
        "class Frames(list):\n",
        "    def __init__(self, coords_csv, fps=30):\n",
        "        \"\"\" animation frames helper \"\"\"\n",
        "        coords = list(csv.reader(coords_csv.split('\\n')))\n",
        "        self.coords = np.array([[float(col) for col in row] for row in coords])\n",
        "        self.size = self.coords.shape[0]\n",
        "        self.fps = fps\n",
        "\n",
        "    def export(self, name, fs):\n",
        "        \"\"\" export frames as csv \"\"\"\n",
        "        head = ['FRAME_ID'] + np.hstack([[f'R_{i}', f'G_{i}', f'B_{i}'] for i in range(self.size)]).tolist()\n",
        "        rows = np.array(self, dtype=int)\n",
        "\n",
        "        ids = np.arange(rows.shape[0]).reshape(-1, 1)\n",
        "        frames = np.reshape(rows, (*rows.shape[:1], -1))\n",
        "        data = np.hstack([ids, frames])\n",
        "\n",
        "        path = os.path.join(fs.path, name)\n",
        "        np.savetxt(path, data, header=','.join(head), fmt='%i', delimiter=',', comments='')\n",
        "        fs.downsync()\n",
        "\n",
        "        return path\n"
      ]
    },
    {
      "cell_type": "markdown",
      "metadata": {
        "jp-MarkdownHeadingCollapsed": true,
        "tags": []
      },
      "source": [
        "## Setup"
      ]
    },
    {
      "cell_type": "code",
      "execution_count": null,
      "metadata": {
        "trusted": true
      },
      "outputs": [],
      "source": [
        "# init filesystem\n",
        "fs = FileSystemUtils(FS, path=os.path.join(os.path.expanduser('~'), 'data'))\n",
        "\n",
        "# init simulator\n",
        "simulator = Simulator()\n",
        "\n",
        "# init frames\n",
        "response = await js.fetch('https://raw.githubusercontent.com/standupmaths/xmastree2021/main/coords_2021.csv')\n",
        "coords = await response.text()\n",
        "frames = Frames(coords, fps=30)\n"
      ]
    },
    {
      "cell_type": "markdown",
      "metadata": {},
      "source": [
        "## Code\n",
        "\n",
        "### Solar eclipse of December 4, 2021\n",
        "\n",
        "- `Weather assumptions`: clear sky\n",
        "- `Maximum eclipse duration`: 114 seconds\n",
        "\n",
        "[wikipedia.org/wiki/Solar_eclipse_of_December_4,_2021](https://en.wikipedia.org/wiki/Solar_eclipse_of_December_4,_2021)\n",
        "\n",
        "| [Event](https://www.youtube.com/watch?v=J04GFN2Pq1w) | Time                |\n",
        "| ---------------------------------------------------- | ------------------- |\n",
        "| Partial Eclipse Start                                | 2021-12-04 06:41:02 |\n",
        "| Total Eclipse Start                                  | 2021-12-04 07:32:24 |\n",
        "| Maximum Eclipse                                      | 2021-12-04 07:33:20 |\n",
        "| Total Eclipse End                                    | 2021-12-04 07:34:15 |\n",
        "| Partial Eclipse End                                  | 2021-12-04 08:26:34 |"
      ]
    },
    {
      "cell_type": "code",
      "execution_count": null,
      "metadata": {
        "trusted": true
      },
      "outputs": [],
      "source": [
        "# clear frames\n",
        "frames.clear()\n",
        "\n",
        "\n",
        "# ------------------------------------------ START CODING ------------------------------------------\n",
        "\n",
        "\n",
        "def sphere(frames, radius, center, color_in, color_out):\n",
        "    \"\"\" helper function to obtain sphere colored frames \"\"\"\n",
        "\n",
        "    # [A] turn all lights on\n",
        "    frame = np.tile(color_in, (frames.size, 1))\n",
        "\n",
        "    # [B] mask lights out of sphere\n",
        "    dist = np.linalg.norm(np.array(center) - frames.coords, axis=1)\n",
        "    frame[dist > radius] = color_out\n",
        "\n",
        "    return frame\n",
        "\n",
        "\n",
        "# define the run time (60s seconds ~ 100x faster than real)\n",
        "end_time = 60 * frames.fps\n",
        "center_time = end_time / 2\n",
        "totality_time = 2 * frames.fps\n",
        "\n",
        "# write frames\n",
        "for t in np.arange(end_time):\n",
        "\n",
        "    # [1] earth shadow moving in front of sun (actually a solid object crashes right into the sun)\n",
        "    shadow_radius = 1.0\n",
        "    shadow_offset = np.interp(t, [0, center_time - totality_time / 2], [0.0, 2 * shadow_radius])\n",
        "    shadow_offset += np.interp(t, [center_time + totality_time / 2, end_time], [0.0, 2 * shadow_radius])\n",
        "    shadow_center = np.array([0, -2 * shadow_radius + shadow_offset, 1.0])\n",
        "    shadow_frame = sphere(frames, shadow_radius, shadow_center, [1, 1, 1], [0, 0, 0])\n",
        "\n",
        "    # [2] sun parameters (sphere is in the center of the tree)\n",
        "    sun_radius = 1.0\n",
        "    sun_center = [0, 0, 1.0]\n",
        "    sun_color_in = [55, 50, 5]\n",
        "    sun_color_out = [10, 10, 10]\n",
        "\n",
        "    # [3] sun during totality (corona / diamond ring effect)\n",
        "    if np.isclose(shadow_center[1], sun_center[1]):\n",
        "        tt = np.abs(center_time - totality_time / 2 - t)\n",
        "        sun_corona = np.interp(tt, [10, totality_time / 2], [1.0, 1.1], 0, 0)\n",
        "        sun_corona += np.interp(tt, [1 + totality_time / 2, totality_time - 10], [1.1, 1.0], 0, 0)\n",
        "        sun_radius *= sun_corona\n",
        "        sun_color_in = [20, 20, int(15 * sun_corona)]\n",
        "    sun_frame = sphere(frames, sun_radius, sun_center, sun_color_in, sun_color_out)\n",
        "\n",
        "    # [4] merge shadow colors with sun colors (overwrite with nonzero values)\n",
        "    frame = np.where(shadow_frame == 0, sun_frame, shadow_frame)\n",
        "\n",
        "    # [5] glow effect to brighten lights (if less are on intensive them)\n",
        "    if not np.isclose(shadow_center[1], sun_center[1]):\n",
        "        active_mask = frame > 15\n",
        "        active_count = np.count_nonzero(active_mask) // 3\n",
        "        frame[active_mask] += np.interp(active_count, [0, 200], [50, 0]).astype(np.uint8)\n",
        "\n",
        "    # append frame\n",
        "    frames.append(frame)\n",
        "\n",
        "\n",
        "# ------------------------------------------- END CODING -------------------------------------------\n",
        "\n",
        "\n",
        "# export frames\n",
        "path = frames.export('antarctic_solar_eclipse.csv', fs)\n",
        "\n",
        "# update simulator\n",
        "simulator.update(fps=frames.fps, animations=f'fs:/{path}')\n"
      ]
    },
    {
      "cell_type": "code",
      "execution_count": null,
      "metadata": {
        "trusted": true
      },
      "outputs": [],
      "source": [
        "# render simulator\n",
        "simulator.render(loop='true', rotation=0)\n"
      ]
    }
  ],
  "metadata": {
    "interpreter": {
      "hash": "e234d837eebba94c7397b4e38c0b82bd3e4741cb2c390182a3fb441eaf8f3cd5"
    },
    "kernelspec": {
      "display_name": "Pyolite",
      "language": "python",
      "name": "python3"
    },
    "language_info": {
      "codemirror_mode": {
        "name": "python",
        "version": 3
      },
      "file_extension": ".py",
      "mimetype": "text/x-python",
      "name": "python",
      "nbconvert_exporter": "python",
      "pygments_lexer": "ipython3",
      "version": "3.9.9"
    },
    "orig_nbformat": 4
  },
  "nbformat": 4,
  "nbformat_minor": 4
}
