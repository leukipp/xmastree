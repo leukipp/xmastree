{
  "cells": [
    {
      "cell_type": "markdown",
      "metadata": {},
      "source": [
        "# Python\n",
        "\n",
        "![](https://leukipp.github.io/xmastree/kernelspecs/python.png)"
      ]
    },
    {
      "cell_type": "code",
      "execution_count": null,
      "metadata": {
        "trusted": true
      },
      "outputs": [],
      "source": [
        "import os\n",
        "import js\n",
        "import csv\n",
        "import urllib\n",
        "import numpy as np\n",
        "\n",
        "from pyodide_js import FS\n",
        "from IPython.display import HTML, Javascript, display\n"
      ]
    },
    {
      "cell_type": "markdown",
      "metadata": {
        "jp-MarkdownHeadingCollapsed": true,
        "tags": []
      },
      "source": [
        "## Utils"
      ]
    },
    {
      "cell_type": "code",
      "execution_count": null,
      "metadata": {
        "trusted": true
      },
      "outputs": [],
      "source": [
        "class FileSystemUtils(object):\n",
        "    def __init__(self, fs, path):\n",
        "        \"\"\" indexedDB filesystem storage \"\"\"\n",
        "        self.fs = fs\n",
        "        self.path = path\n",
        "        self.type = self.fs.filesystems.IDBFS\n",
        "\n",
        "        self.mount()\n",
        "        self.upsync()\n",
        "\n",
        "    def mount(self):\n",
        "        \"\"\" mount kernel filesystem \"\"\"\n",
        "        if not os.path.exists(self.path):\n",
        "            self.fs.mkdir(self.path)\n",
        "            self.fs.mount(self.type, {}, self.path)\n",
        "\n",
        "    def upsync(self):\n",
        "        \"\"\" sync from browser to kernel filesystem \"\"\"\n",
        "        self.fs.syncfs(True, lambda x: print(x) if x else None)\n",
        "\n",
        "    def downsync(self):\n",
        "        \"\"\" sync from kernel to browser filesystem \"\"\"\n",
        "        self.fs.syncfs(False, lambda x: print(x) if x else None)\n",
        "\n",
        "\n",
        "class Simulator(object):\n",
        "    def __init__(self, width='100%', height='600px'):\n",
        "        \"\"\" three js simulator \"\"\"\n",
        "        self.width = width\n",
        "        self.height = height\n",
        "        self.settings = dict()\n",
        "        self.rendered = False\n",
        "\n",
        "        self.id = 'simulator'\n",
        "        self.root = '' if '127.0.0.1' in str(js.location) else '/xmastree'\n",
        "        self.url = f'{self.root}/files/simulator/index.html'\n",
        "\n",
        "    def src(self):\n",
        "        \"\"\" source url for iframe \"\"\"\n",
        "        return f'{self.url}#{urllib.parse.urlencode(self.settings)}'\n",
        "\n",
        "    def render(self, **kwargs):\n",
        "        \"\"\" render simulator html \"\"\"\n",
        "        self.rendered = False\n",
        "        self.update(**kwargs)\n",
        "        self.rendered = True\n",
        "        layout = {\n",
        "            'id': self.id,\n",
        "            'frameborder': '0',\n",
        "            'width': self.width,\n",
        "            'height': self.height,\n",
        "            'src': self.src()\n",
        "        }\n",
        "        attributes = ' '.join([f'{k}=\"{v}\"' for k, v in layout.items()])\n",
        "        display(HTML(f'<iframe allowfullscreen {attributes} />'))\n",
        "\n",
        "    def update(self, **kwargs):\n",
        "        \"\"\" update simulator settings \"\"\"\n",
        "        for k, v in kwargs.items():\n",
        "            self.settings[k] = str(v)\n",
        "        self.settings['seed'] = int(np.random.rand() * 1e6)\n",
        "        if self.rendered:\n",
        "            display(Javascript(f'document.getElementById(\"{self.id}\").src=\"{self.src()}\"'))\n",
        "\n",
        "\n",
        "class Frames(list):\n",
        "    def __init__(self, coords_csv, fps=30):\n",
        "        \"\"\" animation frames helper \"\"\"\n",
        "        coords = list(csv.reader(coords_csv.split('\\n')))\n",
        "        self.coords = np.array([[float(col) for col in row] for row in coords])\n",
        "        self.size = self.coords.shape[0]\n",
        "        self.fps = fps\n",
        "\n",
        "    def export(self, name, fs):\n",
        "        \"\"\" export frames as csv \"\"\"\n",
        "        head = ['FRAME_ID'] + np.hstack([[f'R_{i}', f'G_{i}', f'B_{i}'] for i in range(self.size)]).tolist()\n",
        "        rows = np.array(self, dtype=int)\n",
        "\n",
        "        ids = np.arange(rows.shape[0]).reshape(-1, 1)\n",
        "        frames = np.reshape(rows, (*rows.shape[:1], -1))\n",
        "        data = np.hstack([ids, frames])\n",
        "\n",
        "        path = os.path.join(fs.path, name)\n",
        "        np.savetxt(path, data, header=','.join(head), fmt='%i', delimiter=',', comments='')\n",
        "        fs.downsync()\n",
        "\n",
        "        return path\n"
      ]
    },
    {
      "cell_type": "markdown",
      "metadata": {
        "jp-MarkdownHeadingCollapsed": true,
        "tags": []
      },
      "source": [
        "## Setup"
      ]
    },
    {
      "cell_type": "code",
      "execution_count": null,
      "metadata": {
        "trusted": true
      },
      "outputs": [],
      "source": [
        "# init filesystem\n",
        "fs = FileSystemUtils(FS, path=os.path.join(os.path.expanduser('~'), 'data'))\n",
        "\n",
        "# init simulator\n",
        "simulator = Simulator()\n",
        "\n",
        "# init frames\n",
        "response = await js.fetch('https://raw.githubusercontent.com/standupmaths/xmastree2021/main/coords_2021.csv')\n",
        "coords = await response.text()\n",
        "frames = Frames(coords, fps=30)\n"
      ]
    },
    {
      "cell_type": "markdown",
      "metadata": {},
      "source": [
        "## Code\n",
        "\n",
        "### Carousel\n",
        "\n",
        "- `Name of the musement ride`: It's a mess.\n",
        "- `Direction of rotation`: It's a mess.\n",
        "\n",
        "[wikipedia.org/wiki/Carousel](https://en.wikipedia.org/wiki/Carousel)\n"
      ]
    },
    {
      "cell_type": "code",
      "execution_count": null,
      "metadata": {
        "trusted": true
      },
      "outputs": [],
      "source": [
        "# clear frames\n",
        "frames.clear()\n",
        "\n",
        "\n",
        "# ------------------------------------------ START CODING ------------------------------------------\n",
        "\n",
        "\n",
        "def sections(coords, time, speed, division):\n",
        "    \"\"\" helper function to obtain sections of an unit circle \"\"\"\n",
        "\n",
        "    # [A] obtain coordinates (only x, y is used here)\n",
        "    x, y, _ = np.split(coords, 3, axis=1)\n",
        "\n",
        "    # [B] calculate angle Θ for each coordinates (0° to 360°)\n",
        "    θ = (np.arctan2(x, y) + τ) % τ\n",
        "\n",
        "    # [C] increase angle Θ to obtain φ (counter clockwise rotation)\n",
        "    φ = ((θ + np.deg2rad(time * speed)) + τ) % τ\n",
        "\n",
        "    # [D] assign each angle φ a quadrant or octant (0 to 3 or 0 to 7)\n",
        "    bins = np.array([0.0, τ/8, τ/4, 3*τ/8, τ/2, 5*τ/8, 3*τ/4, 7*τ/8, τ])[::int(8 * division)]\n",
        "    idxs = np.digitize(φ, bins) - 1\n",
        "\n",
        "    return idxs\n",
        "\n",
        "\n",
        "def colors(idxs, rgb):\n",
        "    \"\"\" helper function to map indices to rgb colors \"\"\"\n",
        "    cmap = np.vectorize(lambda i: np.array(rgb[i], dtype=object))\n",
        "    return np.array([x.tolist() for x in cmap(idxs)])\n",
        "\n",
        "\n",
        "# define some constant (no one likes π)\n",
        "τ = 2 * np.pi\n",
        "\n",
        "# define the run time (24 seconds)\n",
        "time = np.arange(24 * frames.fps)\n",
        "\n",
        "# define the rotation speed (direction by sign)\n",
        "speed = -2.0\n",
        "\n",
        "# write frames\n",
        "for t in time:\n",
        "\n",
        "    # [1] obtain coordinates (used for masking values)\n",
        "    x, y, z = np.split(frames.coords, 3, axis=1)\n",
        "\n",
        "    # [2] assign each section a color (mask values in center)\n",
        "    carousel_idxs = sections(frames.coords, t, speed, division=1/4)\n",
        "    carousel_colors = colors(carousel_idxs, [[254, 0, 0], [11, 255, 1], [1, 30, 254], [253, 254, 2]])\n",
        "    carousel_colors[np.linalg.norm([x, y], axis=0) < 0.25] = [0, 0, 0]\n",
        "\n",
        "    # [3] assign each galloper a color (mask values in center)\n",
        "    galloper_idxs = sections(frames.coords, t, -1.0 * speed, division=1/8)\n",
        "    galloper_colors = colors(galloper_idxs, [[237, 242, 244], [0, 0, 0], [0, 0, 0], [0, 0, 0]] * 2)\n",
        "    galloper_colors[np.linalg.norm([x, y], axis=0) < 0.25] = [0, 0, 0]\n",
        "\n",
        "    # [4] move galloper up and down (mask values above and below)\n",
        "    galloper_height = 1 / 2\n",
        "    galloper_center = (z.max() - z.min()) / 2.0\n",
        "    galloper_offset = 0.25 * np.sin(np.deg2rad(t * speed / 2.0)) - 0.5\n",
        "    galloper_top = galloper_center + galloper_offset + galloper_height\n",
        "    galloper_bottom = galloper_center + galloper_offset - galloper_height\n",
        "    galloper_colors[(z > galloper_top) | (z < galloper_bottom)] = [0, 0, 0]\n",
        "\n",
        "    # [5] merge galloper colors with carousel colors (overwrite with nonzero values)\n",
        "    frame = np.where(galloper_colors == 0, carousel_colors, galloper_colors)\n",
        "\n",
        "    # append frame\n",
        "    frames.append(frame)\n",
        "\n",
        "\n",
        "# ------------------------------------------- END CODING -------------------------------------------\n",
        "\n",
        "\n",
        "# export frames\n",
        "path = frames.export('carousel_gallopers.csv', fs)\n",
        "\n",
        "# update simulator\n",
        "simulator.update(fps=frames.fps, animations=f'fs:/{path}')\n"
      ]
    },
    {
      "cell_type": "code",
      "execution_count": null,
      "metadata": {
        "trusted": true
      },
      "outputs": [],
      "source": [
        "# render simulator\n",
        "simulator.render(loop='true', rotation=0)\n"
      ]
    }
  ],
  "metadata": {
    "interpreter": {
      "hash": "e234d837eebba94c7397b4e38c0b82bd3e4741cb2c390182a3fb441eaf8f3cd5"
    },
    "kernelspec": {
      "display_name": "Pyolite",
      "language": "python",
      "name": "python3"
    },
    "language_info": {
      "codemirror_mode": {
        "name": "python",
        "version": 3
      },
      "file_extension": ".py",
      "mimetype": "text/x-python",
      "name": "python",
      "nbconvert_exporter": "python",
      "pygments_lexer": "ipython3",
      "version": "3.9.9"
    },
    "orig_nbformat": 4
  },
  "nbformat": 4,
  "nbformat_minor": 4
}
