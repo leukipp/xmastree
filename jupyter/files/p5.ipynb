{
   "cells": [
      {
         "cell_type": "markdown",
         "metadata": {},
         "source": [
            "# p5.js\n",
            "\n",
            "![](https://p5js.org/assets/img/p5js.svg)"
         ]
      },
      {
         "cell_type": "markdown",
         "metadata": {},
         "source": [
            "## Utils"
         ]
      },
      {
         "cell_type": "code",
         "execution_count": null,
         "metadata": {},
         "outputs": [],
         "source": [
            "class FileSystemUtils {\n",
            "    constructor(db) {\n",
            "        this.db = db;\n",
            "        this.version = 21;\n",
            "        this.store = 'FILE_DATA';\n",
            "    }\n",
            "\n",
            "    async write(filePath, fileContent) {\n",
            "        return this.connect(filePath, fileContent);\n",
            "    }\n",
            "\n",
            "    async read(filePath) {\n",
            "        return this.connect(filePath);\n",
            "    }\n",
            "\n",
            "    async list() {\n",
            "        return this.connect();\n",
            "    }\n",
            "\n",
            "    async connect(filePath, fileContent) {\n",
            "        const file = {\n",
            "            path: filePath,\n",
            "            timestamp: (new Date()).toISOString(),\n",
            "            mode: 33206,\n",
            "            contents: fileContent ? Object.assign({}, ...[...fileContent].map((c, i) => ({ [i]: c.charCodeAt(0) }))) : null\n",
            "        };\n",
            "\n",
            "        // init object store\n",
            "        const con = indexedDB.open(this.db, this.version);\n",
            "        con.onupgradeneeded = () => { con.result.createObjectStore(this.store); };\n",
            "\n",
            "        return new Promise(function (resolve) {\n",
            "            con.onsuccess = () => {\n",
            "                const db = con.result;\n",
            "                const tx = db.transaction(this.store, 'readwrite');\n",
            "                const store = tx.objectStore(this.store);\n",
            "\n",
            "                if (file.contents) {\n",
            "                    // write operation\n",
            "                    const { path, ...contents } = file;\n",
            "                    store.put(contents, path);\n",
            "                    resolve(true);\n",
            "                }\n",
            "                else if (file.path) {\n",
            "                    // read operation\n",
            "                    const read = store.get(file.path);\n",
            "                    read.onsuccess = () => {\n",
            "                        const result = read.result ? read.result.contents : {};\n",
            "                        resolve(Object.values(result).map((c) => String.fromCharCode(c)).join(''));\n",
            "                    };\n",
            "                }\n",
            "                else {\n",
            "                    // list operation\n",
            "                    const keys = store.getAllKeys();\n",
            "                    keys.onsuccess = () => {\n",
            "                        resolve(keys.result);\n",
            "                    };\n",
            "                }\n",
            "\n",
            "                // close connection\n",
            "                tx.oncomplete = () => { db.close(); };\n",
            "            }\n",
            "        }.bind(this));\n",
            "    }\n",
            "}\n",
            "\n",
            "const fs = new FileSystemUtils('/home/web_user/data');\n",
            "\n",
            "const fileName = 'test1.csv';\n",
            "const filePath = `${fs.db}/${fileName}`;\n",
            "const fileContent = '1,123,äbc';\n",
            "\n",
            "fs.write(filePath, fileContent).then((result) => {\n",
            "    console.log(JSON.stringify(result));\n",
            "});\n",
            "\n",
            "fs.read(filePath).then((result) => {\n",
            "    console.log(JSON.stringify(result));\n",
            "});\n",
            "\n",
            "fs.list().then((result) => {\n",
            "    console.log(JSON.stringify(result));\n",
            "});"
         ]
      },
      {
         "cell_type": "code",
         "execution_count": null,
         "metadata": {},
         "outputs": [],
         "source": [
            "// TODO"
         ]
      }
   ],
   "metadata": {
      "kernelspec": {
         "display_name": "p5.js",
         "language": "javascript",
         "name": "p5js"
      },
      "language_info": {
         "codemirror_mode": {
            "name": "javascript"
         },
         "file_extension": ".js",
         "mimetype": "text/javascript",
         "name": "p5js",
         "nbconvert_exporter": "javascript",
         "pygments_lexer": "javascript",
         "version": "es2017"
      }
   },
   "nbformat": 4,
   "nbformat_minor": 4
}
