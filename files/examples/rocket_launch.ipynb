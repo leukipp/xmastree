{
  "cells": [
    {
      "cell_type": "markdown",
      "metadata": {},
      "source": [
        "# Python\n",
        "\n",
        "![](https://leukipp.github.io/xmastree/kernelspecs/python.png)"
      ]
    },
    {
      "cell_type": "markdown",
      "metadata": {},
      "source": [
        "This file is just for reference purpose.\n",
        "Code here doesn`t run as some required packages and system libraries are missing!"
      ]
    },
    {
      "cell_type": "code",
      "execution_count": null,
      "metadata": {
        "trusted": true
      },
      "outputs": [],
      "source": [
        "import os\n",
        "import csv\n",
        "import cairosvg\n",
        "import numpy as np\n",
        "import matplotlib.pyplot as plt\n",
        "\n",
        "from drawSvg.animation import AnimationContext\n",
        "from drawSvg import Drawing, Rectangle, Lines, Text, LinearGradient\n"
      ]
    },
    {
      "cell_type": "markdown",
      "metadata": {
        "jp-MarkdownHeadingCollapsed": true,
        "tags": []
      },
      "source": [
        "## Utils"
      ]
    },
    {
      "cell_type": "code",
      "execution_count": null,
      "metadata": {
        "trusted": true
      },
      "outputs": [],
      "source": [
        "\n",
        "class Drawing(Drawing):\n",
        "    def __init__(self, width, height, **svgArgs):\n",
        "        \"\"\" extend drawing class for GIFT support \"\"\"\n",
        "        super().__init__(width, height, **svgArgs)\n",
        "\n",
        "    def asNumpy(self, alpha=False, dpi=96):\n",
        "        \"\"\" get RGB(A) numpy image array from svg \"\"\"\n",
        "        tree = cairosvg.parser.Tree(bytestring=self.asSvg())\n",
        "        cairo = cairosvg.surface.PNGSurface(tree, None, dpi).cairo\n",
        "        shape = (cairo.get_height(), cairo.get_width(), 4)\n",
        "\n",
        "        # convert color channels\n",
        "        image_bgra = +np.frombuffer(cairo.get_data(), np.uint8)\n",
        "        image_rgba = image_bgra.reshape(shape)[:, :, [2, 1, 0, 3]]\n",
        "\n",
        "        return image_rgba[:, :, :3] if not alpha else image_rgba\n",
        "\n",
        "    def colorCoords(self, coords, plane=(1, 2)):\n",
        "        \"\"\" map RGB(A) colors to given coords \"\"\"\n",
        "        img = self.asNumpy()\n",
        "\n",
        "        # use defined 2D plane with y negated\n",
        "        x, y = coords[:, plane[0]], -coords[:, plane[1]]\n",
        "\n",
        "        # image w-h is index j-i\n",
        "        idxs_j = np.interp(x, [x.min(), x.max()], [0, img.shape[1] - 1]).round().astype(int)\n",
        "        idxs_i = np.interp(y, [y.min(), y.max()], [0, img.shape[0] - 1]).round().astype(int)\n",
        "\n",
        "        return img[idxs_i, idxs_j]\n",
        "\n",
        "    def plotCoords(self, coords):\n",
        "        \"\"\" plot RGB(A) colored coords \"\"\"\n",
        "        colors = self.colorCoords(coords)\n",
        "        x, y, z = np.split(coords, 3, axis=1)\n",
        "\n",
        "        # mask unused coordinates\n",
        "        mask = ~np.all(colors == [0, 0, 0], axis=1)\n",
        "        coords_masked = coords[mask]\n",
        "        colors_masked = colors[mask]\n",
        "\n",
        "        # plot coordinates\n",
        "        fig = plt.figure(figsize=(10, 10))\n",
        "        ax = fig.add_subplot(projection='3d')\n",
        "        ax.set_xlabel('x')\n",
        "        ax.set_ylabel('y')\n",
        "        ax.set_zlabel('z')\n",
        "        ax.set_xlim([x.min(), x.max()])\n",
        "        ax.set_ylim([y.min(), y.max()])\n",
        "        ax.set_zlim([z.min(), z.max()])\n",
        "        ax.view_init(elev=0, azim=0)\n",
        "        ax.scatter(*np.split(coords_masked, 3, axis=1), color=colors_masked / 255)\n",
        "\n",
        "\n",
        "class AnimationContext(AnimationContext):\n",
        "    def __init__(self, coords, draw_func, **kwargs):\n",
        "        \"\"\" extend animation context class for GIFT support \"\"\"\n",
        "        super().__init__(draw_func=draw_func, **kwargs)\n",
        "        self.coords = coords\n",
        "        self.frames = []\n",
        "\n",
        "    def __exit__(self, exc_type, exc_value, exc_traceback):\n",
        "        \"\"\" save RGB(A) colored frames \"\"\"\n",
        "        super().__exit__(exc_type, exc_value, exc_traceback)\n",
        "        self.frames = [d.colorCoords(self.coords) for d in self.anim.frames]\n",
        "\n",
        "    def export(self, path):\n",
        "        \"\"\" export RGB(A) colored coords as csv \"\"\"\n",
        "        head = ['FRAME_ID'] + np.hstack([[f'R_{i}', f'G_{i}', f'B_{i}'] for i in range(self.coords.shape[0])]).tolist()\n",
        "        rows = np.array(self.frames, dtype=int)\n",
        "\n",
        "        # build csv data\n",
        "        ids = np.arange(rows.shape[0]).reshape(-1, 1)\n",
        "        frames = np.reshape(rows, (*rows.shape[:1], -1))\n",
        "        data = np.hstack([ids, frames])\n",
        "\n",
        "        # export csv\n",
        "        np.savetxt(path, data, header=','.join(head), fmt='%i', delimiter=',', comments='')\n"
      ]
    },
    {
      "cell_type": "markdown",
      "metadata": {
        "jp-MarkdownHeadingCollapsed": true,
        "tags": []
      },
      "source": [
        "## Setup"
      ]
    },
    {
      "cell_type": "code",
      "execution_count": null,
      "metadata": {
        "trusted": true
      },
      "outputs": [],
      "source": [
        "# init coords\n",
        "with open('coords_2021.csv', 'r', encoding='utf-8-sig') as f:\n",
        "    coords_csv = list(csv.reader(f))\n",
        "coords = np.array([[float(col) for col in row] for row in coords_csv])\n"
      ]
    },
    {
      "cell_type": "markdown",
      "metadata": {},
      "source": [
        "## Code\n",
        "\n",
        "### Rocket launch\n",
        "\n",
        "[github.com/cduck/drawSvg](https://github.com/cduck/drawSvg)\n",
        "\n",
        "Tests of using a python library to programmatically generate SVG images and render them as GIFT animation frames."
      ]
    },
    {
      "cell_type": "code",
      "execution_count": null,
      "metadata": {
        "trusted": true
      },
      "outputs": [],
      "source": [
        "# ------------------------------------------ START CODING ------------------------------------------\n",
        "\n",
        "fps = 20\n",
        "\n",
        "def draw_func(t=0):\n",
        "    \"\"\" main drawing function \"\"\"\n",
        "    d = Drawing(100, 150)\n",
        "\n",
        "    counter = np.interp(t, [1, 10 * fps], [1, 10]).astype(int)\n",
        "    if counter < 10:\n",
        "        # countdown text\n",
        "        d.append(Text(str(10 - counter), 90, 20, 30, fill='#00ff00'))\n",
        "    else:\n",
        "        t -= 10 * fps\n",
        "        delay = 2 * fps\n",
        "\n",
        "        # calculate deltas\n",
        "        dy = 1 * (t - delay if t >= delay else 0)\n",
        "        dx = np.minimum(30, t)\n",
        "\n",
        "        # engine colors\n",
        "        g = LinearGradient(d.width / 2, 30 + dy, d.width / 2, -10)\n",
        "        g.addStop(0, '#ff7700', 1)\n",
        "        g.addStop(1, '#ff0000', 0)\n",
        "\n",
        "        # engine polygon\n",
        "        d.append(Lines(\n",
        "            d.width / 2, 100 + dy,\n",
        "            d.width / 2 - dx, dy - dx,\n",
        "            d.width / 2 + dx, dy - dx,\n",
        "            close=True, fill=g))\n",
        "\n",
        "        # rocket rectangle\n",
        "        d.append(Rectangle(0, 15 + dy, 100, 135, fill='#0055aa'))\n",
        "\n",
        "    return d\n",
        "\n",
        "# animate drawing function and export csv\n",
        "ctx = AnimationContext(coords, draw_func, pause=False, clear=True, delay=0.05, jupyter=True, out_file='rocket_launch.gif')\n",
        "with ctx as animation:\n",
        "    for t in np.arange(22 * fps):\n",
        "        animation.draw_frame(t)\n",
        "ctx.export('rocket_launch.csv')\n",
        "\n",
        "# ------------------------------------------- END CODING -------------------------------------------\n"
      ]
    }
  ],
  "metadata": {
    "interpreter": {
      "hash": "e234d837eebba94c7397b4e38c0b82bd3e4741cb2c390182a3fb441eaf8f3cd5"
    },
    "kernelspec": {
      "display_name": "Pyolite",
      "language": "python",
      "name": "python3"
    },
    "language_info": {
      "codemirror_mode": {
        "name": "ipython",
        "version": 3
      },
      "file_extension": ".py",
      "mimetype": "text/x-python",
      "name": "python",
      "nbconvert_exporter": "python",
      "pygments_lexer": "ipython3",
      "version": "3.9.9"
    },
    "orig_nbformat": 4
  },
  "nbformat": 4,
  "nbformat_minor": 4
}
