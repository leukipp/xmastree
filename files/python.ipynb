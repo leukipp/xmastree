{
  "metadata": {
    "orig_nbformat": 4,
    "interpreter": {
      "hash": "e234d837eebba94c7397b4e38c0b82bd3e4741cb2c390182a3fb441eaf8f3cd5"
    },
    "kernelspec": {
      "name": "python",
      "display_name": "Pyolite",
      "language": "python"
    },
    "language_info": {
      "codemirror_mode": {
        "name": "python",
        "version": 3
      },
      "file_extension": ".py",
      "mimetype": "text/x-python",
      "name": "python",
      "nbconvert_exporter": "python",
      "pygments_lexer": "ipython3",
      "version": "3.8"
    }
  },
  "nbformat_minor": 4,
  "nbformat": 4,
  "cells": [
    {
      "cell_type": "markdown",
      "source": "# Python\n\n![](https://leukipp.github.io/xmastree/kernelspecs/python.png)",
      "metadata": {}
    },
    {
      "cell_type": "code",
      "source": "import os\nimport js\nimport csv\nimport urllib\nimport numpy as np\n\nfrom pyodide_js import FS\nfrom IPython.display import HTML, Javascript, display\n",
      "metadata": {
        "trusted": true
      },
      "execution_count": null,
      "outputs": []
    },
    {
      "cell_type": "markdown",
      "source": "## Utils",
      "metadata": {
        "jp-MarkdownHeadingCollapsed": true,
        "tags": []
      }
    },
    {
      "cell_type": "code",
      "source": "class FileSystemUtils(object):\n    def __init__(self, fs, path):\n        \"\"\" indexedDB filesystem storage \"\"\"\n        self.fs = fs\n        self.path = path\n        self.type = self.fs.filesystems.IDBFS\n\n        self.mount()\n        self.upsync()\n\n    def mount(self):\n        \"\"\" mount kernel filesystem \"\"\"\n        if not os.path.exists(self.path):\n            self.fs.mkdir(self.path)\n            self.fs.mount(self.type, {}, self.path)\n\n    def upsync(self):\n        \"\"\" sync from browser to kernel filesystem \"\"\"\n        self.fs.syncfs(True, lambda x: print(x) if x else None)\n\n    def downsync(self):\n        \"\"\" sync from kernel to browser filesystem \"\"\"\n        self.fs.syncfs(False, lambda x: print(x) if x else None)\n\n\nclass Simulator(object):\n    def __init__(self, width='100%', height='600px'):\n        \"\"\" three js simulator \"\"\"\n        self.width = width\n        self.height = height\n        self.settings = dict()\n        self.rendered = False\n\n        self.id = 'simulator'\n        self.root = '' if '127.0.0.1' in str(js.location) else '/xmastree'\n        self.url = f'{self.root}/files/simulator/index.html'\n\n    def src(self):\n        \"\"\" source url for iframe \"\"\"\n        return f'{self.url}#{urllib.parse.urlencode(self.settings)}'\n\n    def render(self, **kwargs):\n        \"\"\" render simulator html \"\"\"\n        self.rendered = False\n        self.update(**kwargs)\n        self.rendered = True\n        layout = {\n            'id': self.id,\n            'frameborder': '0',\n            'width': self.width,\n            'height': self.height,\n            'src': self.src()\n        }\n        attributes = ' '.join([f'{k}=\"{v}\"' for k, v in layout.items()])\n        display(HTML(f'<iframe allowfullscreen {attributes} />'))\n\n    def update(self, **kwargs):\n        \"\"\" update simulator settings \"\"\"\n        for k, v in kwargs.items():\n            self.settings[k] = str(v)\n        self.settings['seed'] = int(np.random.rand() * 1e6)\n        if self.rendered:\n            display(Javascript(f'document.getElementById(\"{self.id}\").src=\"{self.src()}\"'))\n\n\nclass Frames(list):\n    def __init__(self, coords_csv, fps=30):\n        \"\"\" animation frames helper \"\"\"\n        coords = list(csv.reader(coords_csv.split('\\n')))\n        self.coords = np.array([[float(col) for col in row] for row in coords])\n        self.size = self.coords.shape[0]\n        self.fps = fps\n\n    def export(self, name, fs):\n        \"\"\" export frames as csv \"\"\"\n        head = ['FRAME_ID'] + np.hstack([[f'R_{i}', f'G_{i}', f'B_{i}'] for i in range(self.size)]).tolist()\n        rows = np.array(self, dtype=int)\n\n        ids = np.arange(rows.shape[0]).reshape(-1, 1)\n        frames = np.reshape(rows, (*rows.shape[:1], -1))\n        data = np.hstack([ids, frames])\n\n        path = os.path.join(fs.path, name)\n        np.savetxt(path, data, header=','.join(head), fmt='%i', delimiter=',', comments='')\n        fs.downsync()\n\n        return path\n",
      "metadata": {
        "trusted": true
      },
      "execution_count": null,
      "outputs": []
    },
    {
      "cell_type": "markdown",
      "source": "## Setup",
      "metadata": {
        "tags": [],
        "jp-MarkdownHeadingCollapsed": true
      }
    },
    {
      "cell_type": "code",
      "source": "# init filesystem\nfs = FileSystemUtils(FS, path=os.path.join(os.path.expanduser('~'), 'data'))\n\n# init simulator\nsimulator = Simulator()\n\n# init frames\nresponse = await js.fetch('https://raw.githubusercontent.com/standupmaths/xmastree2021/main/coords_2021.csv')\ncoords = await response.text()\nframes = Frames(coords, fps=30)\n",
      "metadata": {
        "trusted": true
      },
      "execution_count": null,
      "outputs": []
    },
    {
      "cell_type": "markdown",
      "source": "## Code",
      "metadata": {}
    },
    {
      "cell_type": "code",
      "source": "# clear frames\nframes.clear()\n\n# ------------------------------------------ START CODING ------------------------------------------\n\n# write frames\nfor frame_id in range(90):\n    frame = np.zeros(shape=(frames.size, 3))\n\n    # assign random colors\n    for led_id in range(frames.size):\n        rgb = np.random.randint(0, 256, size=(1, 3))\n        frame[led_id] = rgb\n\n    frames.append(frame)\n\n# ------------------------------------------- END CODING -------------------------------------------\n\n# export frames\npath = frames.export('animation.csv', fs)\n\n# update simulator\nsimulator.update(fps=frames.fps, animations=f'fs:/{path}')\n",
      "metadata": {
        "trusted": true
      },
      "execution_count": null,
      "outputs": []
    },
    {
      "cell_type": "code",
      "source": "# render simulator\nsimulator.render(loop='true', rotation=0)\n",
      "metadata": {
        "trusted": true
      },
      "execution_count": null,
      "outputs": []
    }
  ]
}